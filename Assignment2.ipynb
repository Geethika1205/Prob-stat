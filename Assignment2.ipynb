{
  "nbformat": 4,
  "nbformat_minor": 0,
  "metadata": {
    "colab": {
      "provenance": [],
      "authorship_tag": "ABX9TyOU5rcCnTR4EUDlOqgevyF6",
      "include_colab_link": true
    },
    "kernelspec": {
      "name": "python3",
      "display_name": "Python 3"
    },
    "language_info": {
      "name": "python"
    }
  },
  "cells": [
    {
      "cell_type": "markdown",
      "metadata": {
        "id": "view-in-github",
        "colab_type": "text"
      },
      "source": [
        "<a href=\"https://colab.research.google.com/github/Geethika1205/Prob-stat/blob/main/Assignment2.ipynb\" target=\"_parent\"><img src=\"https://colab.research.google.com/assets/colab-badge.svg\" alt=\"Open In Colab\"/></a>"
      ]
    },
    {
      "cell_type": "code",
      "execution_count": 7,
      "metadata": {
        "colab": {
          "base_uri": "https://localhost:8080/"
        },
        "id": "IZRbHaQRlZub",
        "outputId": "fe969dbb-150d-4174-a995-b43ce12e687b"
      },
      "outputs": [
        {
          "output_type": "stream",
          "name": "stdout",
          "text": [
            "Ungrouped Data - Median (numpy): 56.0\n",
            "Ungrouped Data - Mode (manual): 45\n",
            "Ungrouped Data - Mode (pandas): [45]\n",
            "\n",
            "Grouped Data (Discrete) - Median (numpy): 40.0\n",
            "Grouped Data (Discrete) - Mode (numpy): 30\n",
            "\n",
            "Grouped Data (Class Intervals) - Approx Median: 68.66666666666667\n",
            "Grouped Data (Class Intervals) - Approx Mode: 71.11111111111111\n"
          ]
        }
      ],
      "source": [
        "import numpy as np\n",
        "import pandas as pd\n",
        "\n",
        "# Question 1: Ungrouped Data\n",
        "data = [45, 67, 89, 23, 45, 67, 89, 34, 56, 78, 90, 21, 45, 67, 89, 23, 45,\n",
        "56, 78, 34, 23, 45, 67, 89, 45, 67, 89, 12, 34, 56, 78, 90, 23, 45,\n",
        "67, 12, 34, 78, 45, 67, 89, 34, 56, 78, 90, 23, 56, 78, 89, 45, 12,\n",
        "67, 45, 78, 23, 45, 67, 89, 34, 45, 23, 78, 67, 89, 45, 67, 89, 12,\n",
        "34, 56, 78, 90, 23, 12, 34, 56, 78, 23, 45, 67, 89, 34, 45, 23, 45,\n",
        "67, 89, 12, 34, 56, 78, 90, 45, 23]\n",
        "\n",
        "\n",
        "\n",
        "median_ungrouped = np.median(data)\n",
        "mode_ungrouped = max(set(data), key=data.count)\n",
        "mode_ungrouped_pandas = pd.Series(data).mode().tolist()\n",
        "\n",
        "print(f\"Ungrouped Data - Median (numpy): {median_ungrouped}\")\n",
        "print(f\"Ungrouped Data - Mode (manual): {mode_ungrouped}\")\n",
        "print(f\"Ungrouped Data - Mode (pandas): {mode_ungrouped_pandas}\")\n",
        "\n",
        "# Question 2: Grouped Data (Discrete frequency\n",
        "scores = [10, 20, 30, 40, 50,60,70,80,90,100]\n",
        "frequencies = [200,350,400,300,250,200,150,80,50,20]\n",
        "data_expanded = np.repeat(scores, frequencies)\n",
        "median_grouped = np.median(data_expanded)\n",
        "mode_grouped = scores[np.argmax(frequencies)]\n",
        "\n",
        "print(f\"\\nGrouped Data (Discrete) - Median (numpy): {median_grouped}\")\n",
        "print(f\"Grouped Data (Discrete) - Mode (numpy): {mode_grouped}\")\n",
        "\n",
        "# Question 3: Grouped Data (Class Intervals)\n",
        "class_intervals = [(0, 20), (20, 40), (40, 60), (60, 80), (80, 100),(100,120),(120,140)]\n",
        "class_midpoints = [(a + b) / 2 for a, b in class_intervals]\n",
        "class_frequencies = [50,120,200,300,220,70,40]\n",
        "cf = np.cumsum(class_frequencies)\n",
        "N = sum(class_frequencies)\n",
        "median_class_index = np.searchsorted(cf, N / 2)\n",
        "L = class_intervals[median_class_index][0]\n",
        "F = cf[median_class_index - 1] if median_class_index > 0 else 0\n",
        "f = class_frequencies[median_class_index]\n",
        "h = class_intervals[median_class_index][1] - class_intervals[median_class_index][0]\n",
        "\n",
        "median_grouped_formula = L + ((N/2 - F) / f) * h\n",
        "\n",
        "\n",
        "mode_class_index = np.argmax(class_frequencies)\n",
        "L_mode = class_intervals[mode_class_index][0]\n",
        "f1 = class_frequencies[mode_class_index]\n",
        "f0 = class_frequencies[mode_class_index - 1] if mode_class_index > 0 else 0\n",
        "f2 = class_frequencies[mode_class_index + 1] if mode_class_index < len(class_frequencies) - 1 else 0\n",
        "\n",
        "mode_grouped_formula = L_mode + ((f1 - f0) / ((f1 - f0) + (f1 - f2))) * h if (f1 - f0 + f1 - f2) != 0 else L_mode\n",
        "\n",
        "print(f\"\\nGrouped Data (Class Intervals) - Approx Median: {median_grouped_formula}\")\n",
        "print(f\"Grouped Data (Class Intervals) - Approx Mode: {mode_grouped_formula}\")"
      ]
    },
    {
      "cell_type": "code",
      "source": [],
      "metadata": {
        "id": "UFyMe5T0oxM9"
      },
      "execution_count": null,
      "outputs": []
    }
  ]
}