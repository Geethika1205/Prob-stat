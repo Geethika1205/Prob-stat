{
  "nbformat": 4,
  "nbformat_minor": 0,
  "metadata": {
    "colab": {
      "provenance": [],
      "authorship_tag": "ABX9TyOl6FVJ6X7EaytinP3rPcVq",
      "include_colab_link": true
    },
    "kernelspec": {
      "name": "python3",
      "display_name": "Python 3"
    },
    "language_info": {
      "name": "python"
    }
  },
  "cells": [
    {
      "cell_type": "markdown",
      "metadata": {
        "id": "view-in-github",
        "colab_type": "text"
      },
      "source": [
        "<a href=\"https://colab.research.google.com/github/Geethika1205/Prob-stat/blob/main/lab8.ipynb\" target=\"_parent\"><img src=\"https://colab.research.google.com/assets/colab-badge.svg\" alt=\"Open In Colab\"/></a>"
      ]
    },
    {
      "cell_type": "code",
      "execution_count": 1,
      "metadata": {
        "colab": {
          "base_uri": "https://localhost:8080/"
        },
        "id": "c573XClGsc-o",
        "outputId": "907e5a97-cd57-4c4a-bd73-dc26d084a8a5"
      },
      "outputs": [
        {
          "output_type": "stream",
          "name": "stdout",
          "text": [
            "Sample Mean: 27466.67\n",
            "Sample Standard Deviation: 3748.65\n",
            "95% Confidence Interval: (25390.73, 29542.60)\n",
            "Conclusion: Reject the null hypothesis. The actual average cost is significantly different from ₹30,000.\n"
          ]
        }
      ],
      "source": [
        "import numpy as np\n",
        "import scipy.stats as stats\n",
        "\n",
        "# Given data\n",
        "data = [25000, 31000, 20000, 28000, 29500, 32000, 21000, 30500, 27000, 28500, 30000, 23000, 31000, 26000, 29500]\n",
        "claimed_mean = 30000\n",
        "confidence_level = 0.95\n",
        "n = len(data)\n",
        "\n",
        "# Compute sample mean and standard deviation\n",
        "sample_mean = np.mean(data)\n",
        "sample_std = np.std(data, ddof=1)  # Using ddof=1 for sample standard deviation\n",
        "\n",
        "# Compute the margin of error\n",
        "t_critical = stats.t.ppf((1 + confidence_level) / 2, df=n-1)  # Two-tailed t-score\n",
        "margin_of_error = t_critical * (sample_std / np.sqrt(n))\n",
        "\n",
        "# Compute confidence interval\n",
        "confidence_interval = (sample_mean - margin_of_error, sample_mean + margin_of_error)\n",
        "\n",
        "# Assessing the hypothesis based on confidence interval\n",
        "reject_null_hypothesis = not (confidence_interval[0] <= claimed_mean <= confidence_interval[1])\n",
        "\n",
        "# Print results\n",
        "print(f\"Sample Mean: {sample_mean:.2f}\")\n",
        "print(f\"Sample Standard Deviation: {sample_std:.2f}\")\n",
        "print(f\"95% Confidence Interval: ({confidence_interval[0]:.2f}, {confidence_interval[1]:.2f})\")\n",
        "if reject_null_hypothesis:\n",
        "    print(\"Conclusion: Reject the null hypothesis. The actual average cost is significantly different from ₹30,000.\")\n",
        "else:\n",
        "    print(\"Conclusion: Fail to reject the null hypothesis. There is no significant difference from ₹30,000.\")"
      ]
    }
  ]
}