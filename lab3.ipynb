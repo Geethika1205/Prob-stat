{
  "nbformat": 4,
  "nbformat_minor": 0,
  "metadata": {
    "colab": {
      "provenance": [],
      "authorship_tag": "ABX9TyPULvaTyDDZ31zhYj8+YqjI",
      "include_colab_link": true
    },
    "kernelspec": {
      "name": "python3",
      "display_name": "Python 3"
    },
    "language_info": {
      "name": "python"
    }
  },
  "cells": [
    {
      "cell_type": "markdown",
      "metadata": {
        "id": "view-in-github",
        "colab_type": "text"
      },
      "source": [
        "<a href=\"https://colab.research.google.com/github/Geethika1205/Prob-stat/blob/main/lab3.ipynb\" target=\"_parent\"><img src=\"https://colab.research.google.com/assets/colab-badge.svg\" alt=\"Open In Colab\"/></a>"
      ]
    },
    {
      "cell_type": "code",
      "execution_count": 3,
      "metadata": {
        "colab": {
          "base_uri": "https://localhost:8080/"
        },
        "id": "6oLNThsWV7-w",
        "outputId": "45f5b701-59dd-494f-b10a-562982ed58c0"
      },
      "outputs": [
        {
          "output_type": "stream",
          "name": "stdout",
          "text": [
            "Median: 45.0\n",
            "Mode using Pandas: [45]\n"
          ]
        }
      ],
      "source": [
        "import numpy as np\n",
        "import pandas as pd\n",
        "dataset = [12, 45, 67, 23, 45, 89, 45, 12, 33, 67, 67,78, 45, 23, 23, 56, 89, 45, 33, 45]\n",
        "median = np.median(dataset)\n",
        "print(f\"Median: {median}\")\n",
        "\n",
        "mode_pandas = pd.Series(dataset).mode()\n",
        "print(f\"Mode using Pandas: {mode_pandas.tolist()}\")\n"
      ]
    },
    {
      "cell_type": "code",
      "source": [
        "import numpy as np\n",
        "import pandas as pd\n",
        "scores = [10, 20, 30, 40, 50]\n",
        "frequencies = [5, 8, 12, 15, 7]\n",
        "data = []\n",
        "for score, freq in zip(scores, frequencies):\n",
        "    data.extend([score] * freq)\n",
        "data_np = np.array(data)\n",
        "data_pd = pd.Series(data)\n",
        "median_np = np.median(data_np)\n",
        "mode_np = np.bincount(data_np).argmax()\n",
        "mode_pd = data_pd.mode().iloc[0]\n",
        "# Print the results\n",
        "print(f\"Median (numpy): {median_np}\")\n",
        "print(f\"Mode (numpy): {mode_np}\")\n",
        "print(f\"Mode (pandas): {mode_pd}\")"
      ],
      "metadata": {
        "colab": {
          "base_uri": "https://localhost:8080/"
        },
        "id": "qZUr7RBcnyvu",
        "outputId": "f8f4d20b-b592-4797-f238-a1ef238b5ca8"
      },
      "execution_count": 4,
      "outputs": [
        {
          "output_type": "stream",
          "name": "stdout",
          "text": [
            "Median (numpy): 30.0\n",
            "Mode (numpy): 40\n",
            "Mode (pandas): 40\n"
          ]
        }
      ]
    },
    {
      "cell_type": "code",
      "source": [
        "#question3\n",
        "class_intervals = [(0, 10), (10, 20), (20, 30), (30, 40), (40, 50)]\n",
        "class_midpoints = [(a + b) / 2 for a, b in class_intervals]\n",
        "class_frequencies = [4, 6, 10, 8, 2]\n",
        "cf = np.cumsum(class_frequencies)\n",
        "N = sum(class_frequencies)\n",
        "median_class_index = np.searchsorted(cf, N / 2)\n",
        "L = class_intervals[median_class_index][0]\n",
        "F = cf[median_class_index - 1] if median_class_index > 0 else 0\n",
        "f = class_frequencies[median_class_index]\n",
        "h = class_intervals[median_class_index][1] - class_intervals[median_class_index][0]\n",
        "\n",
        "median_grouped_formula = L + ((N/2 - F) / f) * h\n",
        "\n",
        "\n",
        "mode_class_index = np.argmax(class_frequencies)\n",
        "L_mode = class_intervals[mode_class_index][0]\n",
        "f1 = class_frequencies[mode_class_index]\n",
        "f0 = class_frequencies[mode_class_index - 1] if mode_class_index > 0 else 0\n",
        "f2 = class_frequencies[mode_class_index + 1] if mode_class_index < len(class_frequencies) - 1 else 0\n",
        "\n",
        "mode_grouped_formula = L_mode + ((f1 - f0) / ((f1 - f0) + (f1 - f2))) * h if (f1 - f0 + f1 - f2) != 0 else L_mode\n",
        "\n",
        "print(f\"\\nGrouped Data (Class Intervals) - Approx Median: {median_grouped_formula}\")\n",
        "print(f\"Grouped Data (Class Intervals) - Approx Mode: {mode_grouped_formula}\")"
      ],
      "metadata": {
        "colab": {
          "base_uri": "https://localhost:8080/"
        },
        "id": "3qlMIK_ToW0H",
        "outputId": "398403e6-c381-4573-ef0d-df4164befd19"
      },
      "execution_count": 6,
      "outputs": [
        {
          "output_type": "stream",
          "name": "stdout",
          "text": [
            "\n",
            "Grouped Data (Class Intervals) - Approx Median: 25.0\n",
            "Grouped Data (Class Intervals) - Approx Mode: 26.666666666666664\n"
          ]
        }
      ]
    }
  ]
}